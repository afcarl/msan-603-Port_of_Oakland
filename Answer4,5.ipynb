{
 "cells": [
  {
   "cell_type": "markdown",
   "metadata": {},
   "source": [
    "## Monte Carlo\n",
    "### Answer 4"
   ]
  },
  {
   "cell_type": "code",
   "execution_count": 1,
   "metadata": {
    "collapsed": true
   },
   "outputs": [],
   "source": [
    "import numpy as np\n",
    "\n",
    "from collections import OrderedDict"
   ]
  },
  {
   "cell_type": "code",
   "execution_count": 2,
   "metadata": {
    "collapsed": true
   },
   "outputs": [],
   "source": [
    "test_dict = {\"<10\": .08, \"10-15\": .27, \"15-20\": .1, \"20-25\": 0.11, \"25-30\": 0.15, \"30-35\": 0.20, \"35-37\": 0.07, \"37+\":0.02}\n",
    "n = 4989"
   ]
  },
  {
   "cell_type": "code",
   "execution_count": 3,
   "metadata": {
    "collapsed": true
   },
   "outputs": [],
   "source": [
    "def truckSim(n,d):\n",
    "    truck_levels = [] # Initialize an empty list\n",
    "    for j in range(n): # Run this loop for n trucks\n",
    "        cumulative_prob = 0 # Initialize a cumulative probability\n",
    "        random_num = np.random.uniform(0,1) # Generate a number between 0 and 1\n",
    "        for (k,v) in d.items(): # Run this loop for each value in the dictionary\n",
    "            cumulative_prob += v # Add the probability of this particular dictionary entry\n",
    "            if cumulative_prob > random_num: # Once the cumulative probability is higher than the random number...\n",
    "                truck_levels.append(k) # ...add the key to the list\n",
    "                break # and break the for loop\n",
    "    return truck_levels"
   ]
  },
  {
   "cell_type": "code",
   "execution_count": 4,
   "metadata": {
    "collapsed": true
   },
   "outputs": [],
   "source": [
    "pos = 0\n",
    "for i in range(1000):\n",
    "    result_list = truckSim(n, test_dict)\n",
    "    if result_list.count('35-37') >= 368:\n",
    "        pos = pos + 1"
   ]
  },
  {
   "cell_type": "code",
   "execution_count": 5,
   "metadata": {},
   "outputs": [
    {
     "data": {
      "text/plain": [
       "155"
      ]
     },
     "execution_count": 5,
     "metadata": {},
     "output_type": "execute_result"
    }
   ],
   "source": [
    "# result_list\n",
    "pos"
   ]
  },
  {
   "cell_type": "code",
   "execution_count": 6,
   "metadata": {
    "collapsed": true
   },
   "outputs": [],
   "source": [
    "pos = 0\n",
    "for i in range(1000):\n",
    "    result_list = truckSim(n, test_dict)\n",
    "    if result_list.count('37+') >= 108:\n",
    "        pos = pos + 1"
   ]
  },
  {
   "cell_type": "code",
   "execution_count": 7,
   "metadata": {},
   "outputs": [
    {
     "data": {
      "text/plain": [
       "210"
      ]
     },
     "execution_count": 7,
     "metadata": {},
     "output_type": "execute_result"
    }
   ],
   "source": [
    "pos"
   ]
  },
  {
   "cell_type": "markdown",
   "metadata": {},
   "source": [
    "### Answer 5"
   ]
  },
  {
   "cell_type": "code",
   "execution_count": 8,
   "metadata": {
    "collapsed": true
   },
   "outputs": [],
   "source": [
    "pos = 0\n",
    "for i in range(1000):\n",
    "    result_list = truckSim(n, test_dict)\n",
    "    if result_list.count('37+') >= 108 and result_list.count('35-37') >= 368:\n",
    "        pos = pos + 1"
   ]
  },
  {
   "cell_type": "code",
   "execution_count": 9,
   "metadata": {},
   "outputs": [
    {
     "data": {
      "text/plain": [
       "32"
      ]
     },
     "execution_count": 9,
     "metadata": {},
     "output_type": "execute_result"
    }
   ],
   "source": [
    "pos"
   ]
  }
 ],
 "metadata": {
  "kernelspec": {
   "display_name": "Python 2",
   "language": "python",
   "name": "python2"
  },
  "language_info": {
   "codemirror_mode": {
    "name": "ipython",
    "version": 2
   },
   "file_extension": ".py",
   "mimetype": "text/x-python",
   "name": "python",
   "nbconvert_exporter": "python",
   "pygments_lexer": "ipython2",
   "version": "2.7.13"
  }
 },
 "nbformat": 4,
 "nbformat_minor": 2
}
