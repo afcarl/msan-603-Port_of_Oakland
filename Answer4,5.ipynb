{
 "cells": [
  {
   "cell_type": "markdown",
   "metadata": {},
   "source": [
    "## Monte Carlo\n",
    "### Answer 4"
   ]
  },
  {
   "cell_type": "code",
   "execution_count": 12,
   "metadata": {},
   "outputs": [],
   "source": [
    "import numpy as np\n",
    "\n",
    "from collections import OrderedDict"
   ]
  },
  {
   "cell_type": "code",
   "execution_count": 13,
   "metadata": {},
   "outputs": [],
   "source": [
    "test_dict = {\"<10\": .08, \"10-15\": .27, \"15-20\": .1, \"20-25\": 0.11, \"25-30\": 0.15, \"30-35\": 0.20, \"35-37\": 0.07, \"37+\":0.02}\n",
    "n = 4989"
   ]
  },
  {
   "cell_type": "code",
   "execution_count": 14,
   "metadata": {},
   "outputs": [],
   "source": [
    "def truckSim(n,d):\n",
    "    truck_levels = [] # Initialize an empty list\n",
    "    for j in range(n): # Run this loop for n trucks\n",
    "        cumulative_prob = 0 # Initialize a cumulative probability\n",
    "        random_num = np.random.uniform(0,1) # Generate a number between 0 and 1\n",
    "        for (k,v) in d.items(): # Run this loop for each value in the dictionary\n",
    "            cumulative_prob += v # Add the probability of this particular dictionary entry\n",
    "            if cumulative_prob > random_num: # Once the cumulative probability is higher than the random number...\n",
    "                truck_levels.append(k) # ...add the key to the list\n",
    "                break # and break the for loop\n",
    "    return truck_levels"
   ]
  },
  {
   "cell_type": "code",
   "execution_count": 15,
   "metadata": {},
   "outputs": [],
   "source": [
    "pos = 0\n",
    "for i in range(1000):\n",
    "    result_list = truckSim(n, test_dict)\n",
    "    if result_list.count('35-37') >= 368:\n",
    "        pos = pos + 1"
   ]
  },
  {
   "cell_type": "code",
   "execution_count": 16,
   "metadata": {},
   "outputs": [
    {
     "name": "stdout",
     "output_type": "stream",
     "text": [
      "Proportion 35-37 >= 368\n",
      "0.147\n"
     ]
    }
   ],
   "source": [
    "# result_list\n",
    "print('Estimated probability of 35-37ft >= 368:')\n",
    "print(pos/1000)"
   ]
  },
  {
   "cell_type": "code",
   "execution_count": 17,
   "metadata": {},
   "outputs": [],
   "source": [
    "pos = 0\n",
    "for i in range(1000):\n",
    "    result_list = truckSim(n, test_dict)\n",
    "    if result_list.count('37+') >= 108:\n",
    "        pos = pos + 1"
   ]
  },
  {
   "cell_type": "code",
   "execution_count": 18,
   "metadata": {},
   "outputs": [
    {
     "name": "stdout",
     "output_type": "stream",
     "text": [
      "Proportion 37+ >= 108\n",
      "0.233\n"
     ]
    }
   ],
   "source": [
    "print('Estimated probability of 37+ >= 108:')\n",
    "print(pos/1000)"
   ]
  },
  {
   "cell_type": "markdown",
   "metadata": {},
   "source": [
    "### Answer 5"
   ]
  },
  {
   "cell_type": "code",
   "execution_count": 19,
   "metadata": {},
   "outputs": [],
   "source": [
    "pos = 0\n",
    "for i in range(1000):\n",
    "    result_list = truckSim(n, test_dict)\n",
    "    if result_list.count('37+') >= 108 and result_list.count('35-37') >= 368:\n",
    "        pos = pos + 1"
   ]
  },
  {
   "cell_type": "code",
   "execution_count": null,
   "metadata": {},
   "outputs": [],
   "source": []
  },
  {
   "cell_type": "code",
   "execution_count": 20,
   "metadata": {},
   "outputs": [
    {
     "name": "stdout",
     "output_type": "stream",
     "text": [
      "Proportion 37+ >= 108 AND 35-37 >= 368\n",
      "0.027\n"
     ]
    }
   ],
   "source": [
    "print('Estimated probability of 37+ >= 108 AND 35-37 >= 368:')\n",
    "print(pos/1000)"
   ]
  },
  {
   "cell_type": "code",
   "execution_count": null,
   "metadata": {},
   "outputs": [],
   "source": []
  }
 ],
 "metadata": {
  "kernelspec": {
   "display_name": "Python 3",
   "language": "python",
   "name": "python3"
  },
  "language_info": {
   "codemirror_mode": {
    "name": "ipython",
    "version": 3
   },
   "file_extension": ".py",
   "mimetype": "text/x-python",
   "name": "python",
   "nbconvert_exporter": "python",
   "pygments_lexer": "ipython3",
   "version": "3.6.4"
  }
 },
 "nbformat": 4,
 "nbformat_minor": 2
}
