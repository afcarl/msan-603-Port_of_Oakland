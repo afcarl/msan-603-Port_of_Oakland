{
 "cells": [
  {
   "cell_type": "markdown",
   "metadata": {},
   "source": [
    "Answer 4: Monte Carlo"
   ]
  },
  {
   "cell_type": "code",
   "execution_count": 35,
   "metadata": {
    "collapsed": true
   },
   "outputs": [],
   "source": [
    "import numpy as np\n",
    "\n",
    "from collections import OrderedDict"
   ]
  },
  {
   "cell_type": "code",
   "execution_count": 36,
   "metadata": {
    "collapsed": true
   },
   "outputs": [],
   "source": [
    "test_dict = {\"<10\": .08, \"10-15\": .27, \"15-20\": .1, \"20-25\": 0.11, \"25-30\": 0.15, \"30-35\": 0.20, \"35-37\": 0.07, \"37+\":0.02}\n",
    "n = 4989"
   ]
  },
  {
   "cell_type": "code",
   "execution_count": 37,
   "metadata": {
    "collapsed": true
   },
   "outputs": [],
   "source": [
    "def truckSim(n,d):\n",
    "    truck_levels = [] # Initialize an empty list\n",
    "    for j in range(n): # Run this loop for n trucks\n",
    "        cumulative_prob = 0 # Initialize a cumulative probability\n",
    "        random_num = np.random.uniform(0,1) # Generate a number between 0 and 1\n",
    "        for (k,v) in d.items(): # Run this loop for each value in the dictionary\n",
    "            cumulative_prob += v # Add the probability of this particular dictionary entry\n",
    "            if cumulative_prob > random_num: # Once the cumulative probability is higher than the random number...\n",
    "                truck_levels.append(k) # ...add the key to the list\n",
    "                break # and break the for loop\n",
    "    return truck_levels"
   ]
  },
  {
   "cell_type": "code",
   "execution_count": 38,
   "metadata": {
    "collapsed": true
   },
   "outputs": [],
   "source": [
    "pos = 0\n",
    "for i in range(1000):\n",
    "    result_list = truckSim(n, test_dict)\n",
    "    if result_list.count('35-37') >= 368:\n",
    "        pos = pos + 1"
   ]
  },
  {
   "cell_type": "code",
   "execution_count": 39,
   "metadata": {},
   "outputs": [
    {
     "data": {
      "text/plain": [
       "141"
      ]
     },
     "execution_count": 39,
     "metadata": {},
     "output_type": "execute_result"
    }
   ],
   "source": [
    "# result_list\n",
    "pos"
   ]
  },
  {
   "cell_type": "code",
   "execution_count": 40,
   "metadata": {},
   "outputs": [],
   "source": [
    "pos = 0\n",
    "for i in range(1000):\n",
    "    result_list = truckSim(n, test_dict)\n",
    "    if result_list.count('37+') >= 108:\n",
    "        pos = pos + 1"
   ]
  },
  {
   "cell_type": "code",
   "execution_count": 41,
   "metadata": {},
   "outputs": [
    {
     "data": {
      "text/plain": [
       "223"
      ]
     },
     "execution_count": 41,
     "metadata": {},
     "output_type": "execute_result"
    }
   ],
   "source": [
    "pos"
   ]
  },
  {
   "cell_type": "code",
   "execution_count": 42,
   "metadata": {},
   "outputs": [],
   "source": [
    "pos = 0\n",
    "for i in range(1000):\n",
    "    result_list = truckSim(n, test_dict)\n",
    "    if result_list.count('37+') >= 108 or result_list.count('35-37') >= 368:\n",
    "        pos = pos + 1"
   ]
  },
  {
   "cell_type": "code",
   "execution_count": 43,
   "metadata": {},
   "outputs": [
    {
     "data": {
      "text/plain": [
       "336"
      ]
     },
     "execution_count": 43,
     "metadata": {},
     "output_type": "execute_result"
    }
   ],
   "source": [
    "pos"
   ]
  },
  {
   "cell_type": "code",
   "execution_count": null,
   "metadata": {
    "collapsed": true
   },
   "outputs": [],
   "source": []
  }
 ],
 "metadata": {
  "kernelspec": {
   "display_name": "Python 2",
   "language": "python",
   "name": "python2"
  },
  "language_info": {
   "codemirror_mode": {
    "name": "ipython",
    "version": 2
   },
   "file_extension": ".py",
   "mimetype": "text/x-python",
   "name": "python",
   "nbconvert_exporter": "python",
   "pygments_lexer": "ipython2",
   "version": "2.7.13"
  }
 },
 "nbformat": 4,
 "nbformat_minor": 2
}
