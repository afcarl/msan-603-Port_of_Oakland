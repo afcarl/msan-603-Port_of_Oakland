{
 "cells": [
  {
   "cell_type": "code",
   "execution_count": 2,
   "metadata": {},
   "outputs": [],
   "source": [
    "import numpy as np\n",
    "from collections import Counter\n",
    "import math\n",
    "import pandas as pd"
   ]
  },
  {
   "cell_type": "markdown",
   "metadata": {},
   "source": [
    "### Question No 1"
   ]
  },
  {
   "cell_type": "code",
   "execution_count": 3,
   "metadata": {},
   "outputs": [],
   "source": [
    "test_dict = {\"<10\": 0.08, \"10-15\": 0.27, \"15-20\": 0.10,\n",
    "             \"20-25\":0.11,\"25-30\":0.15,\"30-35\":0.20,\"35-37\":0.07,\n",
    "             \"37+\":0.02}"
   ]
  },
  {
   "cell_type": "code",
   "execution_count": 4,
   "metadata": {},
   "outputs": [],
   "source": [
    "def truckSim(n,d):\n",
    "    truck_levels = [] # Initialize an empty list\n",
    "    for j in range(n): # Run this loop for n trucks\n",
    "        cumulative_prob = 0 # Initialize a cumulative probability\n",
    "        random_num = np.random.uniform(0,1) # Generate a number between 0 and 1\n",
    "        for (k,v) in d.items(): # Run this loop for each value in the dictionary\n",
    "            cumulative_prob += v # Add the probability of this particular dictionary entry\n",
    "            if cumulative_prob > random_num: # Once the cumulative probability is higher than the random number...\n",
    "                truck_levels.append(k) # ...add the key to the list\n",
    "                break # and break the for loop\n",
    "    return truck_levels"
   ]
  },
  {
   "cell_type": "markdown",
   "metadata": {},
   "source": [
    "### Question No 2"
   ]
  },
  {
   "cell_type": "code",
   "execution_count": 5,
   "metadata": {},
   "outputs": [],
   "source": [
    "simlist = truckSim(1000,test_dict)"
   ]
  },
  {
   "cell_type": "code",
   "execution_count": 6,
   "metadata": {},
   "outputs": [],
   "source": [
    "def truck1CI(alpha,keyname,n,simlist):\n",
    "    finallist = []\n",
    "    deltalist = []\n",
    "    for i in range(n):\n",
    "        templist = np.random.choice(simlist,len(simlist))\n",
    "        pos = Counter(templist)[keyname]\n",
    "        finallist.append(pos/len(templist))\n",
    "    samplemean = np.mean(finallist)\n",
    "    stderror = np.std(finallist)/np.sqrt(n)\n",
    "    for i in range(n):\n",
    "        bs =np.random.choice(finallist,len(simlist))\n",
    "        deltalist.append(np.mean(bs)-samplemean)\n",
    "    deltalist = sorted(deltalist,reverse=False)\n",
    "    ub = deltalist[int(alpha*100)]\n",
    "    lb = deltalist[int(1-alpha*100)]\n",
    "    return pd.Series([samplemean,samplemean+lb,samplemean+ub,stderror],index = ['Est.Value','CI Lower Bound',\n",
    "                                                                                'CI Upper Bound','Standard Error'])"
   ]
  },
  {
   "cell_type": "code",
   "execution_count": 7,
   "metadata": {
    "scrolled": false
   },
   "outputs": [],
   "source": [
    "df = pd.DataFrame([[1-0.1, '30-35', 100],[1-0.1, '30-35', 1000],[1-0.1, '30-35', 2500],\n",
    "                   [1-0.1, '30-35', 5000],[1-0.1, '<10', 100],[1-0.1, '<10', 1000],\n",
    "                   [1-0.1, '<10', 2500],[1-0.1, '<10', 5000]],\n",
    "                  columns=['Confid.Level','Truck Fill Level','No of Bootstraps'])\n",
    "df['Est.Value'],df['CI Lower Bound'],df['CI Upper Bound']= np.zeros(8),np.zeros(8),np.zeros(8)\n",
    "df2= df.apply(lambda x:(truck1CI(x[0],x[1],x[2],simlist)),axis=1)\n",
    "df['Est.Value'] = df2['Est.Value']\n",
    "df['CI Lower Bound']= df2['CI Lower Bound']\n",
    "df['CI Upper Bound']= df2['CI Upper Bound']\n",
    "df['Standard Error']= df2['Standard Error']"
   ]
  },
  {
   "cell_type": "code",
   "execution_count": 8,
   "metadata": {
    "scrolled": true
   },
   "outputs": [
    {
     "data": {
      "text/html": [
       "<div>\n",
       "<style scoped>\n",
       "    .dataframe tbody tr th:only-of-type {\n",
       "        vertical-align: middle;\n",
       "    }\n",
       "\n",
       "    .dataframe tbody tr th {\n",
       "        vertical-align: top;\n",
       "    }\n",
       "\n",
       "    .dataframe thead th {\n",
       "        text-align: right;\n",
       "    }\n",
       "</style>\n",
       "<table border=\"1\" class=\"dataframe\">\n",
       "  <thead>\n",
       "    <tr style=\"text-align: right;\">\n",
       "      <th></th>\n",
       "      <th>Confid.Level</th>\n",
       "      <th>Truck Fill Level</th>\n",
       "      <th>No of Bootstraps</th>\n",
       "      <th>Est.Value</th>\n",
       "      <th>CI Lower Bound</th>\n",
       "      <th>CI Upper Bound</th>\n",
       "      <th>Standard Error</th>\n",
       "    </tr>\n",
       "  </thead>\n",
       "  <tbody>\n",
       "    <tr>\n",
       "      <th>0</th>\n",
       "      <td>0.9</td>\n",
       "      <td>30-35</td>\n",
       "      <td>100</td>\n",
       "      <td>0.197160</td>\n",
       "      <td>0.196669</td>\n",
       "      <td>0.197727</td>\n",
       "      <td>0.001225</td>\n",
       "    </tr>\n",
       "    <tr>\n",
       "      <th>1</th>\n",
       "      <td>0.9</td>\n",
       "      <td>30-35</td>\n",
       "      <td>1000</td>\n",
       "      <td>0.197183</td>\n",
       "      <td>0.197724</td>\n",
       "      <td>0.196678</td>\n",
       "      <td>0.000394</td>\n",
       "    </tr>\n",
       "    <tr>\n",
       "      <th>2</th>\n",
       "      <td>0.9</td>\n",
       "      <td>30-35</td>\n",
       "      <td>2500</td>\n",
       "      <td>0.197119</td>\n",
       "      <td>0.197812</td>\n",
       "      <td>0.196402</td>\n",
       "      <td>0.000250</td>\n",
       "    </tr>\n",
       "    <tr>\n",
       "      <th>3</th>\n",
       "      <td>0.9</td>\n",
       "      <td>30-35</td>\n",
       "      <td>5000</td>\n",
       "      <td>0.196715</td>\n",
       "      <td>0.197584</td>\n",
       "      <td>0.195899</td>\n",
       "      <td>0.000178</td>\n",
       "    </tr>\n",
       "    <tr>\n",
       "      <th>4</th>\n",
       "      <td>0.9</td>\n",
       "      <td>&lt;10</td>\n",
       "      <td>100</td>\n",
       "      <td>0.074180</td>\n",
       "      <td>0.073768</td>\n",
       "      <td>0.074493</td>\n",
       "      <td>0.000839</td>\n",
       "    </tr>\n",
       "    <tr>\n",
       "      <th>5</th>\n",
       "      <td>0.9</td>\n",
       "      <td>&lt;10</td>\n",
       "      <td>1000</td>\n",
       "      <td>0.073913</td>\n",
       "      <td>0.074271</td>\n",
       "      <td>0.073575</td>\n",
       "      <td>0.000261</td>\n",
       "    </tr>\n",
       "    <tr>\n",
       "      <th>6</th>\n",
       "      <td>0.9</td>\n",
       "      <td>&lt;10</td>\n",
       "      <td>2500</td>\n",
       "      <td>0.073958</td>\n",
       "      <td>0.074431</td>\n",
       "      <td>0.073510</td>\n",
       "      <td>0.000162</td>\n",
       "    </tr>\n",
       "    <tr>\n",
       "      <th>7</th>\n",
       "      <td>0.9</td>\n",
       "      <td>&lt;10</td>\n",
       "      <td>5000</td>\n",
       "      <td>0.073903</td>\n",
       "      <td>0.074439</td>\n",
       "      <td>0.073352</td>\n",
       "      <td>0.000117</td>\n",
       "    </tr>\n",
       "  </tbody>\n",
       "</table>\n",
       "</div>"
      ],
      "text/plain": [
       "   Confid.Level Truck Fill Level  No of Bootstraps  Est.Value  CI Lower Bound  \\\n",
       "0           0.9            30-35               100   0.197160        0.196669   \n",
       "1           0.9            30-35              1000   0.197183        0.197724   \n",
       "2           0.9            30-35              2500   0.197119        0.197812   \n",
       "3           0.9            30-35              5000   0.196715        0.197584   \n",
       "4           0.9              <10               100   0.074180        0.073768   \n",
       "5           0.9              <10              1000   0.073913        0.074271   \n",
       "6           0.9              <10              2500   0.073958        0.074431   \n",
       "7           0.9              <10              5000   0.073903        0.074439   \n",
       "\n",
       "   CI Upper Bound  Standard Error  \n",
       "0        0.197727        0.001225  \n",
       "1        0.196678        0.000394  \n",
       "2        0.196402        0.000250  \n",
       "3        0.195899        0.000178  \n",
       "4        0.074493        0.000839  \n",
       "5        0.073575        0.000261  \n",
       "6        0.073510        0.000162  \n",
       "7        0.073352        0.000117  "
      ]
     },
     "execution_count": 8,
     "metadata": {},
     "output_type": "execute_result"
    }
   ],
   "source": [
    "df"
   ]
  },
  {
   "cell_type": "markdown",
   "metadata": {},
   "source": [
    "### Question No 3"
   ]
  },
  {
   "cell_type": "code",
   "execution_count": 11,
   "metadata": {},
   "outputs": [],
   "source": [
    "simlist = truckSim(4989,test_dict)"
   ]
  },
  {
   "cell_type": "code",
   "execution_count": 19,
   "metadata": {},
   "outputs": [],
   "source": [
    "dfQ3 = pd.DataFrame([[1-0.05, '35-37', 200],[1-0.05, '37+', 200],[1-0.1, '35-37', 200],\n",
    "                   [1-0.1, '37+', 200]],\n",
    "                  columns=['Confid.Level','Truck Fill Level','No of Bootstraps'])\n",
    "dfQ3['Est.Value'],dfQ3['CI Lower Bound'],dfQ3['CI Upper Bound']= np.zeros(4),np.zeros(4),np.zeros(4)\n",
    "df2 = dfQ3.apply(lambda x:(truck1CI(x[0],x[1],x[2],simlist)),axis=1)\n",
    "dfQ3['Est.Value'] = df2['Est.Value']\n",
    "dfQ3['CI Lower Bound']= df2['CI Lower Bound']\n",
    "dfQ3['CI Upper Bound']= df2['CI Upper Bound']\n",
    "dfQ3['Standard Error']= df2['Standard Error']"
   ]
  },
  {
   "cell_type": "code",
   "execution_count": 20,
   "metadata": {},
   "outputs": [
    {
     "data": {
      "text/html": [
       "<div>\n",
       "<style scoped>\n",
       "    .dataframe tbody tr th:only-of-type {\n",
       "        vertical-align: middle;\n",
       "    }\n",
       "\n",
       "    .dataframe tbody tr th {\n",
       "        vertical-align: top;\n",
       "    }\n",
       "\n",
       "    .dataframe thead th {\n",
       "        text-align: right;\n",
       "    }\n",
       "</style>\n",
       "<table border=\"1\" class=\"dataframe\">\n",
       "  <thead>\n",
       "    <tr style=\"text-align: right;\">\n",
       "      <th></th>\n",
       "      <th>Confid.Level</th>\n",
       "      <th>Truck Fill Level</th>\n",
       "      <th>No of Bootstraps</th>\n",
       "      <th>Est.Value</th>\n",
       "      <th>CI Lower Bound</th>\n",
       "      <th>CI Upper Bound</th>\n",
       "      <th>Standard Error</th>\n",
       "    </tr>\n",
       "  </thead>\n",
       "  <tbody>\n",
       "    <tr>\n",
       "      <th>0</th>\n",
       "      <td>0.95</td>\n",
       "      <td>35-37</td>\n",
       "      <td>200</td>\n",
       "      <td>0.072623</td>\n",
       "      <td>0.072628</td>\n",
       "      <td>0.072623</td>\n",
       "      <td>0.000275</td>\n",
       "    </tr>\n",
       "    <tr>\n",
       "      <th>1</th>\n",
       "      <td>0.95</td>\n",
       "      <td>37+</td>\n",
       "      <td>200</td>\n",
       "      <td>0.019266</td>\n",
       "      <td>0.019270</td>\n",
       "      <td>0.019267</td>\n",
       "      <td>0.000124</td>\n",
       "    </tr>\n",
       "    <tr>\n",
       "      <th>2</th>\n",
       "      <td>0.90</td>\n",
       "      <td>35-37</td>\n",
       "      <td>200</td>\n",
       "      <td>0.072842</td>\n",
       "      <td>0.072855</td>\n",
       "      <td>0.072842</td>\n",
       "      <td>0.000251</td>\n",
       "    </tr>\n",
       "    <tr>\n",
       "      <th>3</th>\n",
       "      <td>0.90</td>\n",
       "      <td>37+</td>\n",
       "      <td>200</td>\n",
       "      <td>0.019196</td>\n",
       "      <td>0.019199</td>\n",
       "      <td>0.019190</td>\n",
       "      <td>0.000139</td>\n",
       "    </tr>\n",
       "  </tbody>\n",
       "</table>\n",
       "</div>"
      ],
      "text/plain": [
       "   Confid.Level Truck Fill Level  No of Bootstraps  Est.Value  CI Lower Bound  \\\n",
       "0          0.95            35-37               200   0.072623        0.072628   \n",
       "1          0.95              37+               200   0.019266        0.019270   \n",
       "2          0.90            35-37               200   0.072842        0.072855   \n",
       "3          0.90              37+               200   0.019196        0.019199   \n",
       "\n",
       "   CI Upper Bound  Standard Error  \n",
       "0        0.072623        0.000275  \n",
       "1        0.019267        0.000124  \n",
       "2        0.072842        0.000251  \n",
       "3        0.019190        0.000139  "
      ]
     },
     "execution_count": 20,
     "metadata": {},
     "output_type": "execute_result"
    }
   ],
   "source": [
    "dfQ3"
   ]
  }
 ],
 "metadata": {
  "kernelspec": {
   "display_name": "Python 3",
   "language": "python",
   "name": "python3"
  },
  "language_info": {
   "codemirror_mode": {
    "name": "ipython",
    "version": 3
   },
   "file_extension": ".py",
   "mimetype": "text/x-python",
   "name": "python",
   "nbconvert_exporter": "python",
   "pygments_lexer": "ipython3",
   "version": "3.6.3"
  }
 },
 "nbformat": 4,
 "nbformat_minor": 2
}
