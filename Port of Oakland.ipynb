{
 "cells": [
  {
   "cell_type": "code",
   "execution_count": 1,
   "metadata": {
    "collapsed": true
   },
   "outputs": [],
   "source": [
    "import numpy as np\n",
    "import pandas as pd\n",
    "import math\n",
    "\n",
    "from collections import Counter\n",
    "from collections import OrderedDict"
   ]
  },
  {
   "cell_type": "code",
   "execution_count": 2,
   "metadata": {
    "collapsed": true
   },
   "outputs": [],
   "source": [
    "test_dict = {\"<10\": 0.08, \"10-15\": 0.27, \"15-20\": 0.10,\n",
    "             \"20-25\":0.11,\"25-30\":0.15,\"30-35\":0.20,\"35-37\":0.07,\n",
    "             \"37+\":0.02}\n",
    "n = 4989"
   ]
  },
  {
   "cell_type": "markdown",
   "metadata": {},
   "source": [
    "### Question 1"
   ]
  },
  {
   "cell_type": "code",
   "execution_count": 3,
   "metadata": {
    "collapsed": true
   },
   "outputs": [],
   "source": [
    "def truckSim(n,d):\n",
    "    \"\"\"\n",
    "    This function takes a number, n, of trucks to simulate and a dictionary, d, of value-probability pairs and outputs\n",
    "    a list of n different truck levels randomly simulated.  To do this, we generate a random number between 0 and 1\n",
    "    then loop through each key-value pair, adding the probability to a counter.  Once the counter is greater than the \n",
    "    generated random number, we append the key (truck level) to the list to be output.\n",
    "    \"\"\"\n",
    "    truck_levels = [] \n",
    "    for j in range(n): \n",
    "        cumulative_prob = 0\n",
    "        random_num = np.random.uniform(0,1) \n",
    "        for (k,v) in d.items():\n",
    "            cumulative_prob += v \n",
    "            if cumulative_prob > random_num: \n",
    "                truck_levels.append(k)\n",
    "                break \n",
    "    return truck_levels"
   ]
  },
  {
   "cell_type": "markdown",
   "metadata": {},
   "source": [
    "### Question 2"
   ]
  },
  {
   "cell_type": "code",
   "execution_count": 70,
   "metadata": {
    "collapsed": true
   },
   "outputs": [],
   "source": [
    "simlist = truckSim(1000,test_dict)"
   ]
  },
  {
   "cell_type": "code",
   "execution_count": 71,
   "metadata": {},
   "outputs": [],
   "source": [
    "def truck1CI(alpha,keyname,n,simlist):\n",
    "    finallist = []\n",
    "    deltalist = []\n",
    "    for i in range(n):\n",
    "        templist = np.random.choice(simlist,len(simlist))\n",
    "        pos = Counter(templist)[keyname]\n",
    "        finallist.append(1.0*pos/len(templist))\n",
    "    samplemean = 1.0*Counter(simlist)[keyname]/len(simlist)\n",
    "    stderror = np.std(finallist)/np.sqrt(n)    \n",
    "    deltalist = [fill - samplemean for fill in finallist]\n",
    "    deltalist = sorted(deltalist,reverse=False)\n",
    "    ub = deltalist[int(alpha*n)]\n",
    "    lb = deltalist[int((1-alpha)*n)]\n",
    "    return pd.Series([samplemean,samplemean+lb,samplemean+ub,stderror],index = ['Est.Value','CI Lower Bound','CI Upper Bound','Standard Error'])\n"
   ]
  },
  {
   "cell_type": "code",
   "execution_count": 72,
   "metadata": {
    "scrolled": false
   },
   "outputs": [],
   "source": [
    "df = pd.DataFrame([[1-0.1, '30-35', 100],[1-0.1, '30-35', 1000],[1-0.1, '30-35', 2500],\n",
    "                   [1-0.1, '30-35', 5000],[1-0.1, '<10', 100],[1-0.1, '<10', 1000],\n",
    "                   [1-0.1, '<10', 2500],[1-0.1, '<10', 5000]],\n",
    "                  columns=['Confid.Level','Truck Fill Level','No of Bootstraps'])\n",
    "df['Est.Value'],df['CI Lower Bound'],df['CI Upper Bound']= np.zeros(8),np.zeros(8),np.zeros(8)\n",
    "df2= df.apply(lambda x:(truck1CI(x[0],x[1],x[2],simlist)),axis=1)\n",
    "df['Est.Value'] = df2['Est.Value']\n",
    "df['CI Lower Bound']= df2['CI Lower Bound']\n",
    "df['CI Upper Bound']= df2['CI Upper Bound']\n",
    "df['Standard Error']= df2['Standard Error']"
   ]
  },
  {
   "cell_type": "code",
   "execution_count": 73,
   "metadata": {
    "scrolled": true
   },
   "outputs": [
    {
     "data": {
      "text/html": [
       "<div>\n",
       "<style>\n",
       "    .dataframe thead tr:only-child th {\n",
       "        text-align: right;\n",
       "    }\n",
       "\n",
       "    .dataframe thead th {\n",
       "        text-align: left;\n",
       "    }\n",
       "\n",
       "    .dataframe tbody tr th {\n",
       "        vertical-align: top;\n",
       "    }\n",
       "</style>\n",
       "<table border=\"1\" class=\"dataframe\">\n",
       "  <thead>\n",
       "    <tr style=\"text-align: right;\">\n",
       "      <th></th>\n",
       "      <th>Confid.Level</th>\n",
       "      <th>Truck Fill Level</th>\n",
       "      <th>No of Bootstraps</th>\n",
       "      <th>Est.Value</th>\n",
       "      <th>CI Lower Bound</th>\n",
       "      <th>CI Upper Bound</th>\n",
       "      <th>Standard Error</th>\n",
       "    </tr>\n",
       "  </thead>\n",
       "  <tbody>\n",
       "    <tr>\n",
       "      <th>0</th>\n",
       "      <td>0.9</td>\n",
       "      <td>30-35</td>\n",
       "      <td>100</td>\n",
       "      <td>0.222</td>\n",
       "      <td>0.203</td>\n",
       "      <td>0.235</td>\n",
       "      <td>0.001197</td>\n",
       "    </tr>\n",
       "    <tr>\n",
       "      <th>1</th>\n",
       "      <td>0.9</td>\n",
       "      <td>30-35</td>\n",
       "      <td>1000</td>\n",
       "      <td>0.222</td>\n",
       "      <td>0.204</td>\n",
       "      <td>0.239</td>\n",
       "      <td>0.000434</td>\n",
       "    </tr>\n",
       "    <tr>\n",
       "      <th>2</th>\n",
       "      <td>0.9</td>\n",
       "      <td>30-35</td>\n",
       "      <td>2500</td>\n",
       "      <td>0.222</td>\n",
       "      <td>0.205</td>\n",
       "      <td>0.238</td>\n",
       "      <td>0.000257</td>\n",
       "    </tr>\n",
       "    <tr>\n",
       "      <th>3</th>\n",
       "      <td>0.9</td>\n",
       "      <td>30-35</td>\n",
       "      <td>5000</td>\n",
       "      <td>0.222</td>\n",
       "      <td>0.205</td>\n",
       "      <td>0.239</td>\n",
       "      <td>0.000185</td>\n",
       "    </tr>\n",
       "    <tr>\n",
       "      <th>4</th>\n",
       "      <td>0.9</td>\n",
       "      <td>&lt;10</td>\n",
       "      <td>100</td>\n",
       "      <td>0.073</td>\n",
       "      <td>0.062</td>\n",
       "      <td>0.083</td>\n",
       "      <td>0.000711</td>\n",
       "    </tr>\n",
       "    <tr>\n",
       "      <th>5</th>\n",
       "      <td>0.9</td>\n",
       "      <td>&lt;10</td>\n",
       "      <td>1000</td>\n",
       "      <td>0.073</td>\n",
       "      <td>0.062</td>\n",
       "      <td>0.084</td>\n",
       "      <td>0.000269</td>\n",
       "    </tr>\n",
       "    <tr>\n",
       "      <th>6</th>\n",
       "      <td>0.9</td>\n",
       "      <td>&lt;10</td>\n",
       "      <td>2500</td>\n",
       "      <td>0.073</td>\n",
       "      <td>0.062</td>\n",
       "      <td>0.083</td>\n",
       "      <td>0.000163</td>\n",
       "    </tr>\n",
       "    <tr>\n",
       "      <th>7</th>\n",
       "      <td>0.9</td>\n",
       "      <td>&lt;10</td>\n",
       "      <td>5000</td>\n",
       "      <td>0.073</td>\n",
       "      <td>0.062</td>\n",
       "      <td>0.084</td>\n",
       "      <td>0.000117</td>\n",
       "    </tr>\n",
       "  </tbody>\n",
       "</table>\n",
       "</div>"
      ],
      "text/plain": [
       "   Confid.Level Truck Fill Level  No of Bootstraps  Est.Value  CI Lower Bound  \\\n",
       "0           0.9            30-35               100      0.222           0.203   \n",
       "1           0.9            30-35              1000      0.222           0.204   \n",
       "2           0.9            30-35              2500      0.222           0.205   \n",
       "3           0.9            30-35              5000      0.222           0.205   \n",
       "4           0.9              <10               100      0.073           0.062   \n",
       "5           0.9              <10              1000      0.073           0.062   \n",
       "6           0.9              <10              2500      0.073           0.062   \n",
       "7           0.9              <10              5000      0.073           0.062   \n",
       "\n",
       "   CI Upper Bound  Standard Error  \n",
       "0           0.235        0.001197  \n",
       "1           0.239        0.000434  \n",
       "2           0.238        0.000257  \n",
       "3           0.239        0.000185  \n",
       "4           0.083        0.000711  \n",
       "5           0.084        0.000269  \n",
       "6           0.083        0.000163  \n",
       "7           0.084        0.000117  "
      ]
     },
     "execution_count": 73,
     "metadata": {},
     "output_type": "execute_result"
    }
   ],
   "source": [
    "df"
   ]
  },
  {
   "cell_type": "markdown",
   "metadata": {},
   "source": [
    "### Question 3"
   ]
  },
  {
   "cell_type": "code",
   "execution_count": 67,
   "metadata": {
    "collapsed": true
   },
   "outputs": [],
   "source": [
    "simlist = truckSim(4989,test_dict)"
   ]
  },
  {
   "cell_type": "code",
   "execution_count": 68,
   "metadata": {
    "collapsed": true
   },
   "outputs": [],
   "source": [
    "dfQ3 = pd.DataFrame([[1-0.05, '35-37', 200],[1-0.05, '37+', 200],[1-0.1, '35-37', 200],\n",
    "                   [1-0.1, '37+', 200]],\n",
    "                  columns=['Confid.Level','Truck Fill Level','No of Bootstraps'])\n",
    "dfQ3['Est.Value'],dfQ3['CI Lower Bound'],dfQ3['CI Upper Bound']= np.zeros(4),np.zeros(4),np.zeros(4)\n",
    "df2 = dfQ3.apply(lambda x:(truck1CI(x[0],x[1],x[2],simlist)),axis=1)\n",
    "dfQ3['Est.Value'] = df2['Est.Value']\n",
    "dfQ3['CI Lower Bound']= df2['CI Lower Bound']\n",
    "dfQ3['CI Upper Bound']= df2['CI Upper Bound']\n",
    "dfQ3['Standard Error']= df2['Standard Error']"
   ]
  },
  {
   "cell_type": "code",
   "execution_count": 69,
   "metadata": {},
   "outputs": [
    {
     "data": {
      "text/html": [
       "<div>\n",
       "<style>\n",
       "    .dataframe thead tr:only-child th {\n",
       "        text-align: right;\n",
       "    }\n",
       "\n",
       "    .dataframe thead th {\n",
       "        text-align: left;\n",
       "    }\n",
       "\n",
       "    .dataframe tbody tr th {\n",
       "        vertical-align: top;\n",
       "    }\n",
       "</style>\n",
       "<table border=\"1\" class=\"dataframe\">\n",
       "  <thead>\n",
       "    <tr style=\"text-align: right;\">\n",
       "      <th></th>\n",
       "      <th>Confid.Level</th>\n",
       "      <th>Truck Fill Level</th>\n",
       "      <th>No of Bootstraps</th>\n",
       "      <th>Est.Value</th>\n",
       "      <th>CI Lower Bound</th>\n",
       "      <th>CI Upper Bound</th>\n",
       "      <th>Standard Error</th>\n",
       "    </tr>\n",
       "  </thead>\n",
       "  <tbody>\n",
       "    <tr>\n",
       "      <th>0</th>\n",
       "      <td>0.95</td>\n",
       "      <td>35-37</td>\n",
       "      <td>200</td>\n",
       "      <td>0.069553</td>\n",
       "      <td>0.063339</td>\n",
       "      <td>0.076368</td>\n",
       "      <td>0.000267</td>\n",
       "    </tr>\n",
       "    <tr>\n",
       "      <th>1</th>\n",
       "      <td>0.95</td>\n",
       "      <td>37+</td>\n",
       "      <td>200</td>\n",
       "      <td>0.018040</td>\n",
       "      <td>0.015033</td>\n",
       "      <td>0.021447</td>\n",
       "      <td>0.000134</td>\n",
       "    </tr>\n",
       "    <tr>\n",
       "      <th>2</th>\n",
       "      <td>0.90</td>\n",
       "      <td>35-37</td>\n",
       "      <td>200</td>\n",
       "      <td>0.069553</td>\n",
       "      <td>0.064542</td>\n",
       "      <td>0.073762</td>\n",
       "      <td>0.000250</td>\n",
       "    </tr>\n",
       "    <tr>\n",
       "      <th>3</th>\n",
       "      <td>0.90</td>\n",
       "      <td>37+</td>\n",
       "      <td>200</td>\n",
       "      <td>0.018040</td>\n",
       "      <td>0.015634</td>\n",
       "      <td>0.020846</td>\n",
       "      <td>0.000142</td>\n",
       "    </tr>\n",
       "  </tbody>\n",
       "</table>\n",
       "</div>"
      ],
      "text/plain": [
       "   Confid.Level Truck Fill Level  No of Bootstraps  Est.Value  CI Lower Bound  \\\n",
       "0          0.95            35-37               200   0.069553        0.063339   \n",
       "1          0.95              37+               200   0.018040        0.015033   \n",
       "2          0.90            35-37               200   0.069553        0.064542   \n",
       "3          0.90              37+               200   0.018040        0.015634   \n",
       "\n",
       "   CI Upper Bound  Standard Error  \n",
       "0        0.076368        0.000267  \n",
       "1        0.021447        0.000134  \n",
       "2        0.073762        0.000250  \n",
       "3        0.020846        0.000142  "
      ]
     },
     "execution_count": 69,
     "metadata": {},
     "output_type": "execute_result"
    }
   ],
   "source": [
    "dfQ3"
   ]
  },
  {
   "cell_type": "markdown",
   "metadata": {},
   "source": [
    "### Question 4"
   ]
  },
  {
   "cell_type": "code",
   "execution_count": 22,
   "metadata": {
    "collapsed": true
   },
   "outputs": [],
   "source": [
    "pos = 0\n",
    "for i in range(1000):\n",
    "    result_list = truckSim(n, test_dict)\n",
    "    if result_list.count('35-37') >= 368:\n",
    "        pos = pos + 1s"
   ]
  },
  {
   "cell_type": "code",
   "execution_count": 23,
   "metadata": {},
   "outputs": [
    {
     "name": "stdout",
     "output_type": "stream",
     "text": [
      "Estimated probability of 35-37ft >= 368:\n",
      "0.177\n"
     ]
    }
   ],
   "source": [
    "print('Estimated probability of 35-37ft >= 368:')\n",
    "print(1.0*pos/1000)"
   ]
  },
  {
   "cell_type": "code",
   "execution_count": 24,
   "metadata": {
    "collapsed": true
   },
   "outputs": [],
   "source": [
    "pos = 0\n",
    "for i in range(1000):\n",
    "    result_list = truckSim(n, test_dict)\n",
    "    if result_list.count('37+') >= 108:\n",
    "        pos = pos + 1"
   ]
  },
  {
   "cell_type": "code",
   "execution_count": 25,
   "metadata": {},
   "outputs": [
    {
     "name": "stdout",
     "output_type": "stream",
     "text": [
      "Estimated probability of 37+ >= 108:\n",
      "0.212\n"
     ]
    }
   ],
   "source": [
    "print('Estimated probability of 37+ >= 108:')\n",
    "print(1.0*pos/1000)"
   ]
  },
  {
   "cell_type": "markdown",
   "metadata": {},
   "source": [
    "### Question 5"
   ]
  },
  {
   "cell_type": "code",
   "execution_count": 26,
   "metadata": {
    "collapsed": true
   },
   "outputs": [],
   "source": [
    "pos = 0\n",
    "for i in range(1000):\n",
    "    result_list = truckSim(n, test_dict)\n",
    "    if result_list.count('37+') >= 108 and result_list.count('35-37') >= 368:\n",
    "        pos = pos + 1"
   ]
  },
  {
   "cell_type": "code",
   "execution_count": 27,
   "metadata": {},
   "outputs": [
    {
     "name": "stdout",
     "output_type": "stream",
     "text": [
      "Estimated probability of 37+ >= 108 AND 35-37 >= 368:\n",
      "0.026\n"
     ]
    }
   ],
   "source": [
    "print('Estimated probability of 37+ >= 108 AND 35-37 >= 368:')\n",
    "print(1.0*pos/1000)"
   ]
  },
  {
   "cell_type": "code",
   "execution_count": null,
   "metadata": {
    "collapsed": true
   },
   "outputs": [],
   "source": []
  }
 ],
 "metadata": {
  "kernelspec": {
   "display_name": "Python 2",
   "language": "python",
   "name": "python2"
  },
  "language_info": {
   "codemirror_mode": {
    "name": "ipython",
    "version": 2
   },
   "file_extension": ".py",
   "mimetype": "text/x-python",
   "name": "python",
   "nbconvert_exporter": "python",
   "pygments_lexer": "ipython2",
   "version": "2.7.13"
  }
 },
 "nbformat": 4,
 "nbformat_minor": 2
}
