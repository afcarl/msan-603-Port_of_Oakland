{
 "cells": [
  {
   "cell_type": "markdown",
   "metadata": {},
   "source": [
    "## Port of Oakland\n",
    "Ryan Campa\n",
    "\n",
    "Neerja Doshi\n",
    "\n",
    "Sooraj Subrahmannian\n",
    "\n",
    "Jake Toffler"
   ]
  },
  {
   "cell_type": "code",
   "execution_count": 2,
   "metadata": {
    "collapsed": true
   },
   "outputs": [],
   "source": [
    "#import packages\n",
    "import numpy as np\n",
    "import pandas as pd\n",
    "import math\n",
    "\n",
    "from collections import Counter\n",
    "from collections import OrderedDict"
   ]
  },
  {
   "cell_type": "code",
   "execution_count": 3,
   "metadata": {
    "collapsed": true
   },
   "outputs": [],
   "source": [
    "# Create a dictionary of the distribution\n",
    "test_dict = {\"<10\": 0.08, \"10-15\": 0.27, \"15-20\": 0.10,\n",
    "             \"20-25\":0.11,\"25-30\":0.15,\"30-35\":0.20,\"35-37\":0.07,\n",
    "             \"37+\":0.02}\n",
    "n = 4989"
   ]
  },
  {
   "cell_type": "markdown",
   "metadata": {},
   "source": [
    "### Question 1"
   ]
  },
  {
   "cell_type": "code",
   "execution_count": 4,
   "metadata": {
    "collapsed": true
   },
   "outputs": [],
   "source": [
    "def trucksim(n,d):\n",
    "    \"\"\"\n",
    "    This function takes a number, n, of trucks to simulate and a dictionary, d, of value-probability pairs and outputs\n",
    "    a list of n different truck levels randomly simulated.  To do this, we generate a random number between 0 and 1\n",
    "    then loop through each key-value pair, adding the probability to a counter.  Once the counter is greater than the \n",
    "    generated random number, we append the key (truck level) to the list to be output.\n",
    "    \"\"\"\n",
    "    truck_levels = [] \n",
    "    for j in range(n): \n",
    "        cumulative_prob = 0\n",
    "        random_num = np.random.uniform(0,1) \n",
    "        for (k,v) in d.items():\n",
    "            cumulative_prob += v \n",
    "            if cumulative_prob > random_num: \n",
    "                truck_levels.append(k)\n",
    "                break \n",
    "    return truck_levels"
   ]
  },
  {
   "cell_type": "markdown",
   "metadata": {},
   "source": [
    "### Question 2"
   ]
  },
  {
   "cell_type": "code",
   "execution_count": 5,
   "metadata": {
    "collapsed": true
   },
   "outputs": [],
   "source": [
    "simlist = trucksim(1000,test_dict)"
   ]
  },
  {
   "cell_type": "code",
   "execution_count": 6,
   "metadata": {
    "collapsed": true
   },
   "outputs": [],
   "source": [
    "def truck1CI(alpha,keyname,n,simlist):\n",
    "    \"\"\"\n",
    "    The function creates n bootstraps from the original simlist. The function calculates the percentage of each of \n",
    "    these n lists that are equal to the given keyname. It returns the mean, a/2 and 1-a/2 percentiles and the standard \n",
    "    deviation of the bootstrapped mean.\n",
    "    \"\"\"\n",
    "    finallist = []\n",
    "    deltalist = []\n",
    "    for i in range(n):\n",
    "        templist = np.random.choice(simlist,len(simlist))\n",
    "        pos = Counter(templist)[keyname]\n",
    "        finallist.append(1.0*pos/len(templist))\n",
    "    samplemean = 1.0*Counter(simlist)[keyname]/len(simlist)\n",
    "    stderror = np.std(finallist)/np.sqrt(n)    \n",
    "    deltalist = [fill - samplemean for fill in finallist]\n",
    "    deltalist = sorted(deltalist,reverse=False)\n",
    "    ub = deltalist[int(alpha*n)]\n",
    "    lb = deltalist[int((1-alpha)*n)]\n",
    "    return pd.Series([samplemean,samplemean+lb,samplemean+ub,stderror],index = ['Est.Value','CI Lower Bound','CI Upper Bound','Standard Error'])\n"
   ]
  },
  {
   "cell_type": "code",
   "execution_count": 7,
   "metadata": {
    "collapsed": true,
    "scrolled": false
   },
   "outputs": [],
   "source": [
    "\"\"\"\n",
    "Populate a table that shows the Confidence Level, Truck Fill Level, No: of Bootstraps, Estimated Value, \n",
    "CI Lower Bound, CI Upper Bound and Standard Error by calling the 'truck1CI' function. At 90% confidence, we compare\n",
    "computed values for 30-35 and <10 truck fill levels by changing the number of bootstraps.\n",
    "\"\"\"\n",
    "df = pd.DataFrame([[1-0.1, '30-35', 100],[1-0.1, '30-35', 1000],[1-0.1, '30-35', 2500],\n",
    "                   [1-0.1, '30-35', 5000],[1-0.1, '<10', 100],[1-0.1, '<10', 1000],\n",
    "                   [1-0.1, '<10', 2500],[1-0.1, '<10', 5000]],\n",
    "                  columns=['Confid.Level','Truck Fill Level','No of Bootstraps'])\n",
    "df['Est.Value'],df['CI Lower Bound'],df['CI Upper Bound']= np.zeros(8),np.zeros(8),np.zeros(8)\n",
    "df2= df.apply(lambda x:(truck1CI(x[0],x[1],x[2],simlist)),axis=1)\n",
    "df['Est.Value'] = df2['Est.Value']\n",
    "df['CI Lower Bound']= df2['CI Lower Bound']\n",
    "df['CI Upper Bound']= df2['CI Upper Bound']\n",
    "df['Standard Error']= df2['Standard Error']"
   ]
  },
  {
   "cell_type": "code",
   "execution_count": 8,
   "metadata": {
    "scrolled": true
   },
   "outputs": [
    {
     "data": {
      "text/html": [
       "<div>\n",
       "<style>\n",
       "    .dataframe thead tr:only-child th {\n",
       "        text-align: right;\n",
       "    }\n",
       "\n",
       "    .dataframe thead th {\n",
       "        text-align: left;\n",
       "    }\n",
       "\n",
       "    .dataframe tbody tr th {\n",
       "        vertical-align: top;\n",
       "    }\n",
       "</style>\n",
       "<table border=\"1\" class=\"dataframe\">\n",
       "  <thead>\n",
       "    <tr style=\"text-align: right;\">\n",
       "      <th></th>\n",
       "      <th>Confid.Level</th>\n",
       "      <th>Truck Fill Level</th>\n",
       "      <th>No of Bootstraps</th>\n",
       "      <th>Est.Value</th>\n",
       "      <th>CI Lower Bound</th>\n",
       "      <th>CI Upper Bound</th>\n",
       "      <th>Standard Error</th>\n",
       "    </tr>\n",
       "  </thead>\n",
       "  <tbody>\n",
       "    <tr>\n",
       "      <th>0</th>\n",
       "      <td>0.9</td>\n",
       "      <td>30-35</td>\n",
       "      <td>100</td>\n",
       "      <td>0.208</td>\n",
       "      <td>0.194</td>\n",
       "      <td>0.226</td>\n",
       "      <td>0.001168</td>\n",
       "    </tr>\n",
       "    <tr>\n",
       "      <th>1</th>\n",
       "      <td>0.9</td>\n",
       "      <td>30-35</td>\n",
       "      <td>1000</td>\n",
       "      <td>0.208</td>\n",
       "      <td>0.191</td>\n",
       "      <td>0.224</td>\n",
       "      <td>0.000400</td>\n",
       "    </tr>\n",
       "    <tr>\n",
       "      <th>2</th>\n",
       "      <td>0.9</td>\n",
       "      <td>30-35</td>\n",
       "      <td>2500</td>\n",
       "      <td>0.208</td>\n",
       "      <td>0.192</td>\n",
       "      <td>0.225</td>\n",
       "      <td>0.000260</td>\n",
       "    </tr>\n",
       "    <tr>\n",
       "      <th>3</th>\n",
       "      <td>0.9</td>\n",
       "      <td>30-35</td>\n",
       "      <td>5000</td>\n",
       "      <td>0.208</td>\n",
       "      <td>0.192</td>\n",
       "      <td>0.225</td>\n",
       "      <td>0.000184</td>\n",
       "    </tr>\n",
       "    <tr>\n",
       "      <th>4</th>\n",
       "      <td>0.9</td>\n",
       "      <td>&lt;10</td>\n",
       "      <td>100</td>\n",
       "      <td>0.077</td>\n",
       "      <td>0.065</td>\n",
       "      <td>0.089</td>\n",
       "      <td>0.000947</td>\n",
       "    </tr>\n",
       "    <tr>\n",
       "      <th>5</th>\n",
       "      <td>0.9</td>\n",
       "      <td>&lt;10</td>\n",
       "      <td>1000</td>\n",
       "      <td>0.077</td>\n",
       "      <td>0.066</td>\n",
       "      <td>0.088</td>\n",
       "      <td>0.000266</td>\n",
       "    </tr>\n",
       "    <tr>\n",
       "      <th>6</th>\n",
       "      <td>0.9</td>\n",
       "      <td>&lt;10</td>\n",
       "      <td>2500</td>\n",
       "      <td>0.077</td>\n",
       "      <td>0.066</td>\n",
       "      <td>0.088</td>\n",
       "      <td>0.000167</td>\n",
       "    </tr>\n",
       "    <tr>\n",
       "      <th>7</th>\n",
       "      <td>0.9</td>\n",
       "      <td>&lt;10</td>\n",
       "      <td>5000</td>\n",
       "      <td>0.077</td>\n",
       "      <td>0.066</td>\n",
       "      <td>0.088</td>\n",
       "      <td>0.000118</td>\n",
       "    </tr>\n",
       "  </tbody>\n",
       "</table>\n",
       "</div>"
      ],
      "text/plain": [
       "   Confid.Level Truck Fill Level  No of Bootstraps  Est.Value  CI Lower Bound  \\\n",
       "0           0.9            30-35               100      0.208           0.194   \n",
       "1           0.9            30-35              1000      0.208           0.191   \n",
       "2           0.9            30-35              2500      0.208           0.192   \n",
       "3           0.9            30-35              5000      0.208           0.192   \n",
       "4           0.9              <10               100      0.077           0.065   \n",
       "5           0.9              <10              1000      0.077           0.066   \n",
       "6           0.9              <10              2500      0.077           0.066   \n",
       "7           0.9              <10              5000      0.077           0.066   \n",
       "\n",
       "   CI Upper Bound  Standard Error  \n",
       "0           0.226        0.001168  \n",
       "1           0.224        0.000400  \n",
       "2           0.225        0.000260  \n",
       "3           0.225        0.000184  \n",
       "4           0.089        0.000947  \n",
       "5           0.088        0.000266  \n",
       "6           0.088        0.000167  \n",
       "7           0.088        0.000118  "
      ]
     },
     "execution_count": 8,
     "metadata": {},
     "output_type": "execute_result"
    }
   ],
   "source": [
    "df"
   ]
  },
  {
   "cell_type": "markdown",
   "metadata": {},
   "source": [
    "### Question 3"
   ]
  },
  {
   "cell_type": "code",
   "execution_count": 9,
   "metadata": {
    "collapsed": true
   },
   "outputs": [],
   "source": [
    "simlist = trucksim(4989,test_dict)"
   ]
  },
  {
   "cell_type": "code",
   "execution_count": 10,
   "metadata": {
    "collapsed": true
   },
   "outputs": [],
   "source": [
    "\"\"\"\n",
    "Populate a table to show the Confid.Level, Truck Fill Level, No: of Bootstraps, Estimated Value, CI Lower Bound,\n",
    "CI Upper Bound and Standard Error by calling the 'truck1CI' function. This time around, we keep the number of \n",
    "bootstraps constant at 200 and compare the computed values for 35-37 and 37+  truck fill levels at 90% and 95% \n",
    "confidence.\n",
    "\"\"\"\n",
    "dfQ3 = pd.DataFrame([[1-0.05, '35-37', 200],[1-0.05, '37+', 200],[1-0.1, '35-37', 200],\n",
    "                   [1-0.1, '37+', 200]],\n",
    "                  columns=['Confid.Level','Truck Fill Level','No of Bootstraps'])\n",
    "dfQ3['Est.Value'],dfQ3['CI Lower Bound'],dfQ3['CI Upper Bound']= np.zeros(4),np.zeros(4),np.zeros(4)\n",
    "df2 = dfQ3.apply(lambda x:(truck1CI(x[0],x[1],x[2],simlist)),axis=1)\n",
    "dfQ3['Est.Value'] = df2['Est.Value']\n",
    "dfQ3['CI Lower Bound']= df2['CI Lower Bound']\n",
    "dfQ3['CI Upper Bound']= df2['CI Upper Bound']\n",
    "dfQ3['Standard Error']= df2['Standard Error']"
   ]
  },
  {
   "cell_type": "code",
   "execution_count": 11,
   "metadata": {},
   "outputs": [
    {
     "data": {
      "text/html": [
       "<div>\n",
       "<style>\n",
       "    .dataframe thead tr:only-child th {\n",
       "        text-align: right;\n",
       "    }\n",
       "\n",
       "    .dataframe thead th {\n",
       "        text-align: left;\n",
       "    }\n",
       "\n",
       "    .dataframe tbody tr th {\n",
       "        vertical-align: top;\n",
       "    }\n",
       "</style>\n",
       "<table border=\"1\" class=\"dataframe\">\n",
       "  <thead>\n",
       "    <tr style=\"text-align: right;\">\n",
       "      <th></th>\n",
       "      <th>Confid.Level</th>\n",
       "      <th>Truck Fill Level</th>\n",
       "      <th>No of Bootstraps</th>\n",
       "      <th>Est.Value</th>\n",
       "      <th>CI Lower Bound</th>\n",
       "      <th>CI Upper Bound</th>\n",
       "      <th>Standard Error</th>\n",
       "    </tr>\n",
       "  </thead>\n",
       "  <tbody>\n",
       "    <tr>\n",
       "      <th>0</th>\n",
       "      <td>0.95</td>\n",
       "      <td>35-37</td>\n",
       "      <td>200</td>\n",
       "      <td>0.067549</td>\n",
       "      <td>0.061936</td>\n",
       "      <td>0.073762</td>\n",
       "      <td>0.000251</td>\n",
       "    </tr>\n",
       "    <tr>\n",
       "      <th>1</th>\n",
       "      <td>0.95</td>\n",
       "      <td>37+</td>\n",
       "      <td>200</td>\n",
       "      <td>0.020044</td>\n",
       "      <td>0.017238</td>\n",
       "      <td>0.023652</td>\n",
       "      <td>0.000137</td>\n",
       "    </tr>\n",
       "    <tr>\n",
       "      <th>2</th>\n",
       "      <td>0.90</td>\n",
       "      <td>35-37</td>\n",
       "      <td>200</td>\n",
       "      <td>0.067549</td>\n",
       "      <td>0.063339</td>\n",
       "      <td>0.072159</td>\n",
       "      <td>0.000239</td>\n",
       "    </tr>\n",
       "    <tr>\n",
       "      <th>3</th>\n",
       "      <td>0.90</td>\n",
       "      <td>37+</td>\n",
       "      <td>200</td>\n",
       "      <td>0.020044</td>\n",
       "      <td>0.017639</td>\n",
       "      <td>0.022449</td>\n",
       "      <td>0.000136</td>\n",
       "    </tr>\n",
       "  </tbody>\n",
       "</table>\n",
       "</div>"
      ],
      "text/plain": [
       "   Confid.Level Truck Fill Level  No of Bootstraps  Est.Value  CI Lower Bound  \\\n",
       "0          0.95            35-37               200   0.067549        0.061936   \n",
       "1          0.95              37+               200   0.020044        0.017238   \n",
       "2          0.90            35-37               200   0.067549        0.063339   \n",
       "3          0.90              37+               200   0.020044        0.017639   \n",
       "\n",
       "   CI Upper Bound  Standard Error  \n",
       "0        0.073762        0.000251  \n",
       "1        0.023652        0.000137  \n",
       "2        0.072159        0.000239  \n",
       "3        0.022449        0.000136  "
      ]
     },
     "execution_count": 11,
     "metadata": {},
     "output_type": "execute_result"
    }
   ],
   "source": [
    "dfQ3"
   ]
  },
  {
   "cell_type": "markdown",
   "metadata": {},
   "source": [
    "### Question 4"
   ]
  },
  {
   "cell_type": "code",
   "execution_count": 12,
   "metadata": {},
   "outputs": [
    {
     "name": "stdout",
     "output_type": "stream",
     "text": [
      "Estimated probability of 35-37ft >= 368:\n",
      "0.16\n"
     ]
    }
   ],
   "source": [
    "\"\"\"\n",
    "Create a simulated list of n (4,989) trucks and find the estimated probability that the number of trucks that\n",
    "have between 35-37 feet filled is greater than or equal to 368\n",
    "\"\"\"\n",
    "pos = 0\n",
    "for i in range(1000):\n",
    "    result_list = trucksim(n, test_dict)\n",
    "    if result_list.count('35-37') >= 368:\n",
    "        pos = pos + 1\n",
    "        \n",
    "print('Estimated probability of 35-37ft >= 368:')\n",
    "print(1.0*pos/1000)        "
   ]
  },
  {
   "cell_type": "code",
   "execution_count": 13,
   "metadata": {},
   "outputs": [
    {
     "name": "stdout",
     "output_type": "stream",
     "text": [
      "Estimated probability of 37+ >= 108:\n",
      "0.201\n"
     ]
    }
   ],
   "source": [
    "\"\"\"\n",
    "Create a simulated list of n (4,989) trucks and find the estimated probability that the number of trucks that\n",
    "have 37+ feet filled is greater than or equal to 108.\n",
    "\"\"\"\n",
    "pos = 0\n",
    "for i in range(1000):\n",
    "    result_list = trucksim(n, test_dict)\n",
    "    if result_list.count('37+') >= 108:\n",
    "        pos = pos + 1\n",
    "print('Estimated probability of 37+ >= 108:')\n",
    "print(1.0*pos/1000)        "
   ]
  },
  {
   "cell_type": "markdown",
   "metadata": {},
   "source": [
    "### Question 5"
   ]
  },
  {
   "cell_type": "code",
   "execution_count": 14,
   "metadata": {
    "collapsed": true
   },
   "outputs": [],
   "source": [
    "\"\"\"\n",
    "Perform a joint test of both hypothesis. Here we take a product (intersection) of 37+ truck fill level > 108 \n",
    "and 35-37 truck fill level > 368.\n",
    "\"\"\"\n",
    "pos = 0\n",
    "for i in range(1000):\n",
    "    result_list = trucksim(n, test_dict)\n",
    "    if result_list.count('37+') >= 108 and result_list.count('35-37') >= 368:\n",
    "        pos = pos + 1"
   ]
  },
  {
   "cell_type": "code",
   "execution_count": 15,
   "metadata": {},
   "outputs": [
    {
     "name": "stdout",
     "output_type": "stream",
     "text": [
      "Estimated probability of 37+ >= 108 AND 35-37 >= 368:\n",
      "0.025\n"
     ]
    }
   ],
   "source": [
    "print('Estimated probability of 37+ >= 108 AND 35-37 >= 368:')\n",
    "print(1.0*pos/1000)"
   ]
  },
  {
   "cell_type": "code",
   "execution_count": null,
   "metadata": {
    "collapsed": true
   },
   "outputs": [],
   "source": []
  }
 ],
 "metadata": {
  "kernelspec": {
   "display_name": "Python 2",
   "language": "python",
   "name": "python2"
  },
  "language_info": {
   "codemirror_mode": {
    "name": "ipython",
    "version": 2
   },
   "file_extension": ".py",
   "mimetype": "text/x-python",
   "name": "python",
   "nbconvert_exporter": "python",
   "pygments_lexer": "ipython2",
   "version": "2.7.13"
  }
 },
 "nbformat": 4,
 "nbformat_minor": 2
}
