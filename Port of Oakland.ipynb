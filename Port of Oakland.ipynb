{
 "cells": [
  {
   "cell_type": "code",
   "execution_count": 11,
   "metadata": {
    "collapsed": true
   },
   "outputs": [],
   "source": [
    "import numpy as np\n",
    "\n",
    "from collections import OrderedDict"
   ]
  },
  {
   "cell_type": "code",
   "execution_count": 1,
   "metadata": {
    "collapsed": true
   },
   "outputs": [],
   "source": [
    "test_dict = {\"<10\": .08, \"10-15\": .27, \">15\": .65}"
   ]
  },
  {
   "cell_type": "code",
   "execution_count": 46,
   "metadata": {
    "collapsed": true
   },
   "outputs": [],
   "source": [
    "def truckSim(n,d):\n",
    "    truck_levels = [] # Initialize an empty list\n",
    "    for j in range(n): # Run this loop for n trucks\n",
    "        cumulative_prob = 0 # Initialize a cumulative probability\n",
    "        random_num = np.random.uniform(0,1) # Generate a number between 0 and 1\n",
    "        for (k,v) in d.items(): # Run this loop for each value in the dictionary\n",
    "            cumulative_prob += v # Add the probability of this particular dictionary entry\n",
    "            if cumulative_prob > random_num: # Once the cumulative probability is higher than the random number...\n",
    "                truck_levels.append(k) # ...add the key to the list\n",
    "                break # and break the for loop\n",
    "    return truck_levels"
   ]
  }
 ],
 "metadata": {
  "kernelspec": {
   "display_name": "Python 2",
   "language": "python",
   "name": "python2"
  },
  "language_info": {
   "codemirror_mode": {
    "name": "ipython",
    "version": 2
   },
   "file_extension": ".py",
   "mimetype": "text/x-python",
   "name": "python",
   "nbconvert_exporter": "python",
   "pygments_lexer": "ipython2",
   "version": "2.7.13"
  }
 },
 "nbformat": 4,
 "nbformat_minor": 2
}
