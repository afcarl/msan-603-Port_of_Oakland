{
 "cells": [
  {
   "cell_type": "code",
   "execution_count": 125,
   "metadata": {},
   "outputs": [],
   "source": [
    "import numpy as np\n",
    "from collections import Counter\n",
    "import math\n",
    "import pandas as pd"
   ]
  },
  {
   "cell_type": "markdown",
   "metadata": {},
   "source": [
    "### Question No 1"
   ]
  },
  {
   "cell_type": "code",
   "execution_count": 126,
   "metadata": {},
   "outputs": [],
   "source": [
    "test_dict = {\"<10\": 0.08, \"10-15\": 0.27, \"15-20\": 0.10,\n",
    "             \"20-25\":0.11,\"25-30\":0.15,\"30-35\":0.20,\"35-37\":0.07,\n",
    "             \"37+\":0.02}"
   ]
  },
  {
   "cell_type": "code",
   "execution_count": 127,
   "metadata": {},
   "outputs": [],
   "source": [
    "def truckSim(n,d):\n",
    "    truck_levels = [] # Initialize an empty list\n",
    "    for j in range(n): # Run this loop for n trucks\n",
    "        cumulative_prob = 0 # Initialize a cumulative probability\n",
    "        random_num = np.random.uniform(0,1) # Generate a number between 0 and 1\n",
    "        for (k,v) in d.items(): # Run this loop for each value in the dictionary\n",
    "            cumulative_prob += v # Add the probability of this particular dictionary entry\n",
    "            if cumulative_prob > random_num: # Once the cumulative probability is higher than the random number...\n",
    "                truck_levels.append(k) # ...add the key to the list\n",
    "                break # and break the for loop\n",
    "    return truck_levels"
   ]
  },
  {
   "cell_type": "markdown",
   "metadata": {},
   "source": [
    "### Question No 2"
   ]
  },
  {
   "cell_type": "code",
   "execution_count": 134,
   "metadata": {},
   "outputs": [],
   "source": [
    "simlist = truckSim(1000,test_dict)"
   ]
  },
  {
   "cell_type": "code",
   "execution_count": 181,
   "metadata": {},
   "outputs": [],
   "source": [
    "def truck1CI(alpha,keyname,n,simlist):\n",
    "    finallist = []\n",
    "    deltalist = []\n",
    "    for i in range(n):\n",
    "        templist = np.random.choice(simlist,len(simlist))\n",
    "        pos = Counter(templist)[keyname]\n",
    "        finallist.append(pos/len(templist))\n",
    "    samplemean = np.mean(finallist)\n",
    "    stderror = np.std(finallist)/np.sqrt(n)\n",
    "    for i in range(n):\n",
    "        bs =np.random.choice(finallist,len(simlist))\n",
    "        deltalist.append(np.mean(bs)-samplemean)\n",
    "    deltalist = sorted(deltalist,reverse=False)\n",
    "    ub = deltalist[int(alpha*100)]\n",
    "    lb = deltalist[int(1-alpha*100)]\n",
    "    return pd.Series([samplemean,samplemean+lb,samplemean+ub,stderror],index = ['Est.Value','CI Lower Bound',\n",
    "                                                                                'CI Upper Bound','Standard Error'])"
   ]
  },
  {
   "cell_type": "code",
   "execution_count": 182,
   "metadata": {
    "scrolled": false
   },
   "outputs": [],
   "source": [
    "df = pd.DataFrame([[1-0.1, '30-35', 100],[1-0.1, '30-35', 1000],[1-0.1, '30-35', 2500],\n",
    "                   [1-0.1, '30-35', 5000],[1-0.1, '<10', 100],[1-0.1, '<10', 1000],\n",
    "                   [1-0.1, '<10', 2500],[1-0.1, '<10', 5000]],\n",
    "                  columns=['Confid.Level','Truck Fill Level','No of Bootstraps'])\n",
    "df['Est.Value'],df['CI Lower Bound'],df['CI Upper Bound']= np.zeros(8),np.zeros(8),np.zeros(8)\n",
    "df2= df.apply(lambda x:(truck1CI(x[0],x[1],x[2],simlist)),axis=1)\n",
    "df['Est.Value'] = df2['Est.Value']\n",
    "df['CI Lower Bound']= df2['CI Lower Bound']\n",
    "df['CI Upper Bound']= df2['CI Upper Bound']\n",
    "df['Standard Error']= df2['Standard Error']"
   ]
  },
  {
   "cell_type": "code",
   "execution_count": 183,
   "metadata": {
    "scrolled": true
   },
   "outputs": [
    {
     "data": {
      "text/html": [
       "<div>\n",
       "<style scoped>\n",
       "    .dataframe tbody tr th:only-of-type {\n",
       "        vertical-align: middle;\n",
       "    }\n",
       "\n",
       "    .dataframe tbody tr th {\n",
       "        vertical-align: top;\n",
       "    }\n",
       "\n",
       "    .dataframe thead th {\n",
       "        text-align: right;\n",
       "    }\n",
       "</style>\n",
       "<table border=\"1\" class=\"dataframe\">\n",
       "  <thead>\n",
       "    <tr style=\"text-align: right;\">\n",
       "      <th></th>\n",
       "      <th>Confid.Level</th>\n",
       "      <th>Truck Fill Level</th>\n",
       "      <th>No of Bootstraps</th>\n",
       "      <th>Est.Value</th>\n",
       "      <th>CI Lower Bound</th>\n",
       "      <th>CI Upper Bound</th>\n",
       "      <th>Standard Error</th>\n",
       "    </tr>\n",
       "  </thead>\n",
       "  <tbody>\n",
       "    <tr>\n",
       "      <th>0</th>\n",
       "      <td>0.9</td>\n",
       "      <td>30-35</td>\n",
       "      <td>100</td>\n",
       "      <td>0.197370</td>\n",
       "      <td>0.197068</td>\n",
       "      <td>0.197826</td>\n",
       "      <td>0.001094</td>\n",
       "    </tr>\n",
       "    <tr>\n",
       "      <th>1</th>\n",
       "      <td>0.9</td>\n",
       "      <td>30-35</td>\n",
       "      <td>1000</td>\n",
       "      <td>0.197312</td>\n",
       "      <td>0.197836</td>\n",
       "      <td>0.196846</td>\n",
       "      <td>0.000378</td>\n",
       "    </tr>\n",
       "    <tr>\n",
       "      <th>2</th>\n",
       "      <td>0.9</td>\n",
       "      <td>30-35</td>\n",
       "      <td>2500</td>\n",
       "      <td>0.198010</td>\n",
       "      <td>0.198734</td>\n",
       "      <td>0.197278</td>\n",
       "      <td>0.000250</td>\n",
       "    </tr>\n",
       "    <tr>\n",
       "      <th>3</th>\n",
       "      <td>0.9</td>\n",
       "      <td>30-35</td>\n",
       "      <td>5000</td>\n",
       "      <td>0.197797</td>\n",
       "      <td>0.198655</td>\n",
       "      <td>0.196950</td>\n",
       "      <td>0.000178</td>\n",
       "    </tr>\n",
       "    <tr>\n",
       "      <th>4</th>\n",
       "      <td>0.9</td>\n",
       "      <td>&lt;10</td>\n",
       "      <td>100</td>\n",
       "      <td>0.085860</td>\n",
       "      <td>0.085419</td>\n",
       "      <td>0.086272</td>\n",
       "      <td>0.000944</td>\n",
       "    </tr>\n",
       "    <tr>\n",
       "      <th>5</th>\n",
       "      <td>0.9</td>\n",
       "      <td>&lt;10</td>\n",
       "      <td>1000</td>\n",
       "      <td>0.086214</td>\n",
       "      <td>0.086634</td>\n",
       "      <td>0.085805</td>\n",
       "      <td>0.000285</td>\n",
       "    </tr>\n",
       "    <tr>\n",
       "      <th>6</th>\n",
       "      <td>0.9</td>\n",
       "      <td>&lt;10</td>\n",
       "      <td>2500</td>\n",
       "      <td>0.085967</td>\n",
       "      <td>0.086480</td>\n",
       "      <td>0.085467</td>\n",
       "      <td>0.000175</td>\n",
       "    </tr>\n",
       "    <tr>\n",
       "      <th>7</th>\n",
       "      <td>0.9</td>\n",
       "      <td>&lt;10</td>\n",
       "      <td>5000</td>\n",
       "      <td>0.086175</td>\n",
       "      <td>0.086752</td>\n",
       "      <td>0.085608</td>\n",
       "      <td>0.000125</td>\n",
       "    </tr>\n",
       "  </tbody>\n",
       "</table>\n",
       "</div>"
      ],
      "text/plain": [
       "   Confid.Level Truck Fill Level  No of Bootstraps  Est.Value  CI Lower Bound  \\\n",
       "0           0.9            30-35               100   0.197370        0.197068   \n",
       "1           0.9            30-35              1000   0.197312        0.197836   \n",
       "2           0.9            30-35              2500   0.198010        0.198734   \n",
       "3           0.9            30-35              5000   0.197797        0.198655   \n",
       "4           0.9              <10               100   0.085860        0.085419   \n",
       "5           0.9              <10              1000   0.086214        0.086634   \n",
       "6           0.9              <10              2500   0.085967        0.086480   \n",
       "7           0.9              <10              5000   0.086175        0.086752   \n",
       "\n",
       "   CI Upper Bound  Standard Error  \n",
       "0        0.197826        0.001094  \n",
       "1        0.196846        0.000378  \n",
       "2        0.197278        0.000250  \n",
       "3        0.196950        0.000178  \n",
       "4        0.086272        0.000944  \n",
       "5        0.085805        0.000285  \n",
       "6        0.085467        0.000175  \n",
       "7        0.085608        0.000125  "
      ]
     },
     "execution_count": 183,
     "metadata": {},
     "output_type": "execute_result"
    }
   ],
   "source": [
    "df"
   ]
  },
  {
   "cell_type": "code",
   "execution_count": null,
   "metadata": {},
   "outputs": [],
   "source": []
  }
 ],
 "metadata": {
  "kernelspec": {
   "display_name": "Python 3",
   "language": "python",
   "name": "python3"
  },
  "language_info": {
   "codemirror_mode": {
    "name": "ipython",
    "version": 3
   },
   "file_extension": ".py",
   "mimetype": "text/x-python",
   "name": "python",
   "nbconvert_exporter": "python",
   "pygments_lexer": "ipython3",
   "version": "3.6.3"
  }
 },
 "nbformat": 4,
 "nbformat_minor": 2
}
